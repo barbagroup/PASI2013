{
 "metadata": {
  "name": "",
  "signature": "sha256:d661e87e758401586d09c4bf69ce96c1ac0f61ed88db084de698ba74807b5358"
 },
 "nbformat": 3,
 "nbformat_minor": 0,
 "worksheets": [
  {
   "cells": [
    {
     "cell_type": "code",
     "collapsed": false,
     "input": [
      "from IPython.core.display import HTML\n",
      "def css_styling():\n",
      "    styles = open(\"../styles/custom.css\", \"r\").read()\n",
      "    return HTML(styles)\n",
      "css_styling()"
     ],
     "language": "python",
     "metadata": {},
     "outputs": [
      {
       "html": [
        "<link href='http://fonts.googleapis.com/css?family=Fenix' rel='stylesheet' type='text/css'>\n",
        "<link href='http://fonts.googleapis.com/css?family=Alegreya+Sans:100,300,400,500,700,800,900,100italic,300italic,400italic,500italic,700italic,800italic,900italic' rel='stylesheet' type='text/css'>\n",
        "<link href='http://fonts.googleapis.com/css?family=Source+Code+Pro:300,400' rel='stylesheet' type='text/css'>\n",
        "<style>\n",
        "    @font-face {\n",
        "        font-family: \"Computer Modern\";\n",
        "        src: url('http://mirrors.ctan.org/fonts/cm-unicode/fonts/otf/cmunss.otf');\n",
        "    }\n",
        "    div.cell{\n",
        "        width:800px;\n",
        "        margin-left:16% !important;\n",
        "        margin-right:auto;\n",
        "    }\n",
        "    h1 {\n",
        "        font-family: 'Alegreya Sans', sans-serif;\n",
        "    }\n",
        "    h2 {\n",
        "        font-family: 'Fenix', serif;\n",
        "    }\n",
        "    h3{\n",
        "\t\tfont-family: 'Fenix', serif;\n",
        "        margin-top:12px;\n",
        "        margin-bottom: 3px;\n",
        "       }\n",
        "\th4{\n",
        "\t\tfont-family: 'Fenix', serif;\n",
        "       }\n",
        "    h5 {\n",
        "        font-family: 'Alegreya Sans', sans-serif;\n",
        "    }\t   \n",
        "    div.text_cell_render{\n",
        "        font-family: 'Alegreya Sans',Computer Modern, \"Helvetica Neue\", Arial, Helvetica, Geneva, sans-serif;\n",
        "        line-height: 135%;\n",
        "        font-size: 120%;\n",
        "        width:600px;\n",
        "        margin-left:auto;\n",
        "        margin-right:auto;\n",
        "    }\n",
        "    .CodeMirror{\n",
        "            font-family: \"Source Code Pro\";\n",
        "\t\t\tfont-size: 90%;\n",
        "    }\n",
        "/*    .prompt{\n",
        "        display: None;\n",
        "    }*/\n",
        "    .text_cell_render h1 {\n",
        "        font-weight: 200;\n",
        "        font-size: 50pt;\n",
        "\t\tline-height: 100%;\n",
        "        color:#CD2305;\n",
        "        margin-bottom: 0.5em;\n",
        "        margin-top: 0.5em;\n",
        "        display: block;\n",
        "    }\t\n",
        "    .text_cell_render h5 {\n",
        "        font-weight: 300;\n",
        "        font-size: 16pt;\n",
        "        color: #CD2305;\n",
        "        font-style: italic;\n",
        "        margin-bottom: .5em;\n",
        "        margin-top: 0.5em;\n",
        "        display: block;\n",
        "    }\n",
        "    \n",
        "    .warning{\n",
        "        color: rgb( 240, 20, 20 )\n",
        "        }  \n",
        "</style>\n",
        "<script>\n",
        "    MathJax.Hub.Config({\n",
        "                        TeX: {\n",
        "                           extensions: [\"AMSmath.js\"]\n",
        "                           },\n",
        "                tex2jax: {\n",
        "                    inlineMath: [ ['$','$'], [\"\\\\(\",\"\\\\)\"] ],\n",
        "                    displayMath: [ ['$$','$$'], [\"\\\\[\",\"\\\\]\"] ]\n",
        "                },\n",
        "                displayAlign: 'center', // Change this to 'center' to center equations.\n",
        "                \"HTML-CSS\": {\n",
        "                    styles: {'.MathJax_Display': {\"margin\": 4}}\n",
        "                }\n",
        "        });\n",
        "</script>\n"
       ],
       "metadata": {},
       "output_type": "pyout",
       "prompt_number": 1,
       "text": [
        "<IPython.core.display.HTML at 0x7f09719b60d0>"
       ]
      }
     ],
     "prompt_number": 1
    },
    {
     "cell_type": "markdown",
     "metadata": {},
     "source": [
      "#Shallow Water Equations in 1D with ClawPack and PyClaw"
     ]
    },
    {
     "cell_type": "markdown",
     "metadata": {},
     "source": [
      "The shallow water equations are hyperbolic partial differential equations that describe fluid flow when the fluid is \"shallow.\"  They're [derived(pdf)](http://kiwi.atmos.colostate.edu/group/dave/pdf/ShallowWater.pdf) from the Navier-Stokes equations for cases where horizontal length is much greater than vertical length.  The vertical velocity is assumed to be effectively zero and so the horizontal velocity is constant throughout the height of the fluid column.  \n",
      "\n",
      "##Applications\n",
      "Shallow water equations are used extensively for tsunami modeling.  \n",
      "\n",
      "##Getting started"
     ]
    },
    {
     "cell_type": "markdown",
     "metadata": {},
     "source": [
      "First, begin by importing the pyclaw and riemann modules from clawpack.  If you don't have Clawpack installed on your system, you can look [here](http://clawpack.github.io/doc/installing.html) for instructions."
     ]
    },
    {
     "cell_type": "code",
     "collapsed": false,
     "input": [
      "from clawpack import riemann\n",
      "from clawpack import pyclaw\n",
      "import numpy"
     ],
     "language": "python",
     "metadata": {},
     "outputs": []
    },
    {
     "cell_type": "markdown",
     "metadata": {},
     "source": [
      "Clawpack has a number of built in Riemann solvers which are coded in Fortran for nice fast results.  Pyclaw functions as a bridge to allow us to make use of these Fortran routines from within Python.  \n",
      "\n",
      "We're looking at 1D shallow water equations for this example.  \n",
      "\n",
      "The conservative equations have the form\n",
      "\n",
      "$$\\frac{\\partial H}{\\partial t} + \\frac{\\partial (UH)}{\\partial x} = 0$$\n",
      "\n",
      "$$\\frac{\\partial (UH)}{\\partial t} + \\frac{\\partial (U^2 H + \\frac{1}{2} g H^2 )}{\\partial x} = 0$$\n",
      "\n",
      "Here $U$ is the ordinary velocity, $H$ is the height of the water column and $g$ is the gravitational acceleration.\n",
      "\n",
      "For any problem, we have to choose the appropriate Riemann solver.  \n",
      "For these equations, the Clawpack solver we want is called `shallow_roe_with_efix_1D`."
     ]
    },
    {
     "cell_type": "code",
     "collapsed": false,
     "input": [
      "rs = riemann.shallow_roe_with_efix_1D"
     ],
     "language": "python",
     "metadata": {},
     "outputs": []
    },
    {
     "cell_type": "markdown",
     "metadata": {},
     "source": [
      "Next, we need to tell Pyclaw that we're going to be using this Riemann solver and also apply a 'limiter' to the problem.  Limiters are any one of several routines to help prevent problems from blowing up.  For this problem, we'll use a wave limiter called Vanleer."
     ]
    },
    {
     "cell_type": "code",
     "collapsed": false,
     "input": [
      "solver = pyclaw.ClawSolver1D(rs)\n",
      "solver.limiters = pyclaw.limiters.tvd.vanleer"
     ],
     "language": "python",
     "metadata": {},
     "outputs": []
    },
    {
     "cell_type": "markdown",
     "metadata": {},
     "source": [
      "We also have to tell our solver that we're using a Fortran routine to run this problem.  "
     ]
    },
    {
     "cell_type": "code",
     "collapsed": false,
     "input": [
      "solver.kernel_language='Fortran'"
     ],
     "language": "python",
     "metadata": {},
     "outputs": []
    },
    {
     "cell_type": "markdown",
     "metadata": {},
     "source": [
      "Ok, now it's time to set up our domain.  We have to choose a range to run the problem over, and the number of grid points that we'd like to insert.  "
     ]
    },
    {
     "cell_type": "code",
     "collapsed": false,
     "input": [
      "xlower = -5.0\n",
      "xupper = 5.0\n",
      "mx = 200\n",
      "x = pyclaw.Dimension('x',xlower,xupper,mx)\n",
      "domain = pyclaw.Domain(x)"
     ],
     "language": "python",
     "metadata": {},
     "outputs": []
    },
    {
     "cell_type": "markdown",
     "metadata": {},
     "source": [
      "Note now that x is a pyclaw geometry object.  "
     ]
    },
    {
     "cell_type": "code",
     "collapsed": false,
     "input": [
      "print x"
     ],
     "language": "python",
     "metadata": {},
     "outputs": []
    },
    {
     "cell_type": "markdown",
     "metadata": {},
     "source": [
      "Next we have to initialize the Pyclaw \"state\" object.  The state object keeps track of our domain as the solver progresses.  We need to tell it what our domain looks like (conveniently stashed in our variable `x`) and also how many equations are in our problem.  Since we're working with a 1D shallow water problem, we need two equations.  "
     ]
    },
    {
     "cell_type": "code",
     "collapsed": false,
     "input": [
      "domain = pyclaw.Domain(x)\n",
      "num_eqn = 2\n",
      "state = pyclaw.State(domain,num_eqn)\n",
      "state.problem_data['grav'] = 1.0"
     ],
     "language": "python",
     "metadata": {},
     "outputs": []
    },
    {
     "cell_type": "markdown",
     "metadata": {},
     "source": [
      "Ok, now let's set up our initial conditions.  We'll be looking at a classic shallow water example, the 'dam break.'  We're going to set up a 'step' of water and then see what happens when we let it go.  First, let's grab the positions of our nodes from our state object.  "
     ]
    },
    {
     "cell_type": "code",
     "collapsed": false,
     "input": [
      "xc = state.grid.x.centers"
     ],
     "language": "python",
     "metadata": {},
     "outputs": []
    },
    {
     "cell_type": "markdown",
     "metadata": {},
     "source": [
      "For the sake of simplicity, we'll choose $x=0$ as our point to divide the high and low water sections.  Everything to the left of $x=0$ will have a height of 3, while everything to the right will have a height of 1.  We also need to specify an initial velocity at each node.  Again, for simplicity, we're going to set $u=0$ everywhere.  \n",
      "\n",
      "Now, because we need Pyclaw to understand what we're asking it, we need to make sure we put this information in the right place.  In this setup, we need to put our water height information into the first row of the `state.q` array, and the velocity information into the second row.  "
     ]
    },
    {
     "cell_type": "code",
     "collapsed": false,
     "input": [
      "x0 = 0\n",
      "\n",
      "hl = 3.\n",
      "hr = 1.\n",
      "state.q[0,:] = hl * (xc <= x0) + hr * (xc > x0)\n",
      "state.q[1,:] = xc*0"
     ],
     "language": "python",
     "metadata": {},
     "outputs": []
    },
    {
     "cell_type": "markdown",
     "metadata": {},
     "source": [
      "Let's do a quick of those initial conditions to make sure they turned out the way we expected.  "
     ]
    },
    {
     "cell_type": "code",
     "collapsed": false,
     "input": [
      "import matplotlib.pyplot as plt\n",
      "%matplotlib inline\n",
      "\n",
      "plt.figure(figsize=(11,4))\n",
      "plt.subplot(121)\n",
      "plt.plot(xc, state.q[0,:])\n",
      "plt.axis([-5,5,0,4])\n",
      "plt.title('Water height')\n",
      "plt.subplot(122)\n",
      "plt.plot(xc, state.q[1,:])\n",
      "plt.title('Initial velocity');"
     ],
     "language": "python",
     "metadata": {},
     "outputs": []
    },
    {
     "cell_type": "markdown",
     "metadata": {},
     "source": [
      "Looking good!  Now just a little more housekeeping and we should be good to go.  We need to specify boundary conditions so the solver knows what to do at the edges of our domain.  For a dam break simulation, outflow boundaries make the most sense.  "
     ]
    },
    {
     "cell_type": "code",
     "collapsed": false,
     "input": [
      "solver.bc_lower[0] = pyclaw.BC.extrap\n",
      "solver.bc_upper[0] = pyclaw.BC.extrap"
     ],
     "language": "python",
     "metadata": {},
     "outputs": []
    },
    {
     "cell_type": "markdown",
     "metadata": {},
     "source": [
      "Finally, we need to specify a few things.  We need to create our 'controller' which will manage the problem for us.  It keeps track of how long to run the simulation, how many frames to divide it into, and where/if to store results."
     ]
    },
    {
     "cell_type": "code",
     "collapsed": false,
     "input": [
      "claw = pyclaw.Controller()\n",
      "claw.keep_copy = True\n",
      "claw.tfinal = 3.0\n",
      "claw.solution = pyclaw.Solution(state,domain)\n",
      "claw.solver = solver\n",
      "claw.output_format = None \n",
      "claw.num_output_times = 50"
     ],
     "language": "python",
     "metadata": {},
     "outputs": []
    },
    {
     "cell_type": "code",
     "collapsed": false,
     "input": [
      "status = claw.run();"
     ],
     "language": "python",
     "metadata": {},
     "outputs": []
    },
    {
     "cell_type": "markdown",
     "metadata": {},
     "source": [
      "Ok!  So our solver has, well, solved our problem.  It's split it up into 50 frames, just as we specified, and it's covered 3 seconds of simulation time, again as we've specified.  Now let's take a look at the results!\n",
      "\n",
      "##Plotting results\n",
      "\n",
      "The solution for each frame is stored within the array `claw.frames`, so we can easily use `matplotlib` to take a look at a given frame of our solution.  Just like with our initial setup, the fluid height is stored in the first row of `q` and the velocity is stored in the second row.   "
     ]
    },
    {
     "cell_type": "code",
     "collapsed": false,
     "input": [
      "x = domain.grid.x.centers.copy()\n",
      "\n",
      "plt.figure(figsize=(11,4))\n",
      "\n",
      "plt.subplot(121)\n",
      "plt.plot(x, claw.frames[17].q[0,:])\n",
      "plt.title('Frame 17 Fluid Height')\n",
      "\n",
      "plt.subplot(122)\n",
      "plt.plot(x, claw.frames[17].q[1,:])\n",
      "plt.title('Frame 17 Velocity');"
     ],
     "language": "python",
     "metadata": {},
     "outputs": []
    },
    {
     "cell_type": "markdown",
     "metadata": {},
     "source": [
      "##Animating results\n",
      "\n",
      "We're going to make use of the JSAnimation library to animate our solutions into a small movie.  You can read up [here](dummylink) about how the JSAnimation library works. "
     ]
    },
    {
     "cell_type": "code",
     "collapsed": false,
     "input": [
      "from matplotlib import animation\n",
      "from JSAnimation import IPython_display"
     ],
     "language": "python",
     "metadata": {},
     "outputs": []
    },
    {
     "cell_type": "code",
     "collapsed": false,
     "input": [
      "fig = plt.figure(figsize=(11,8))\n",
      "ax = plt.axes(xlim=(-5, 5), ylim=(0, 5))\n",
      "\n",
      "frame = claw.frames[0]\n",
      "pressure = frame.q[0,:]\n",
      "line, = ax.plot([], [], lw=2)\n",
      "\n",
      "def fplot(i):\n",
      "    frame = claw.frames[i]\n",
      "    line.set_data(x,frame.q[0,:])\n",
      "    return line,\n",
      "\n",
      "animation.FuncAnimation(fig, fplot, 50, interval=40)"
     ],
     "language": "python",
     "metadata": {},
     "outputs": []
    },
    {
     "cell_type": "markdown",
     "metadata": {},
     "source": [
      "Cool!  Once you have the hang of setting up the solvers, it's very easy to reinitialize a problem and change the initial conditions.  Here's the same setup but instead of a dam break, we have a perturbation that could model what happens when a droplet of water hits a puddle."
     ]
    },
    {
     "cell_type": "code",
     "collapsed": false,
     "input": [
      "solver = pyclaw.ClawSolver1D(rs)\n",
      "solver.limiters = pyclaw.limiters.tvd.vanleer\n",
      "solver.kernel_language='Fortran'\n",
      "\n",
      "state = pyclaw.State(domain,num_eqn)\n",
      "state.problem_data['grav'] = 1.0\n",
      "\n",
      "solver.bc_lower[0] = pyclaw.BC.extrap\n",
      "solver.bc_upper[0] = pyclaw.BC.extrap\n",
      "\n",
      "x0=0\n",
      "eps=0.5\n",
      "state.q[0,:] = 1.0 + eps*numpy.exp(-(xc-x0)**2/0.5)\n",
      "state.q[1,:] = 0.\n",
      "\n",
      "claw = pyclaw.Controller()\n",
      "claw.keep_copy = True\n",
      "claw.tfinal = 3.0\n",
      "claw.solution = pyclaw.Solution(state,domain)\n",
      "claw.solver = solver\n",
      "claw.output_format = None \n",
      "claw.num_output_times = 50"
     ],
     "language": "python",
     "metadata": {},
     "outputs": []
    },
    {
     "cell_type": "code",
     "collapsed": false,
     "input": [
      "claw.run()"
     ],
     "language": "python",
     "metadata": {},
     "outputs": []
    },
    {
     "cell_type": "code",
     "collapsed": false,
     "input": [
      "fig = plt.figure(figsize=(11,8))\n",
      "ax = plt.axes(xlim=(-5, 5), ylim=(0, 2))\n",
      "\n",
      "frame = claw.frames[0]\n",
      "pressure = frame.q[0,:]\n",
      "line, = ax.plot([], [], lw=2)\n",
      "\n",
      "def fplot(i):\n",
      "    frame = claw.frames[i]\n",
      "    line.set_data(x,frame.q[0,:])\n",
      "    return line,\n",
      "\n",
      "animation.FuncAnimation(fig, fplot, 50, interval=40)"
     ],
     "language": "python",
     "metadata": {},
     "outputs": []
    }
   ],
   "metadata": {}
  }
 ]
}