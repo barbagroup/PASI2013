{
 "metadata": {
  "name": "",
  "signature": "sha256:9b5f82ca1223bd3ff6e4cd752768cd46790ed77a97ab9689c6274fd8bd0c40a2"
 },
 "nbformat": 3,
 "nbformat_minor": 0,
 "worksheets": [
  {
   "cells": [
    {
     "cell_type": "markdown",
     "metadata": {},
     "source": [
      "#Conservative and Non-conservative Forms"
     ]
    },
    {
     "cell_type": "markdown",
     "metadata": {},
     "source": [
      "Consider the conservative derivative:\n",
      "\n",
      "$$\\frac{\\partial \\rho u}{\\partial x}$$\n",
      "\n",
      "When we discretize this with a backward difference, it yields:\n",
      "\n",
      "$$\\frac{\\partial \\rho u}{\\partial x} \\approx \\frac{\\rho u_i - \\rho u_{i-1}}{\\Delta x}$$\n",
      "\n",
      "If we instead start with the non-conservative derivative (apply the product rule), we have:\n",
      "\n",
      "$$\\rho \\frac{\\partial u}{\\partial x} + u \\frac{\\partial \\rho}{\\partial x}$$\n",
      "\n",
      "But now, applying the same backward difference scheme yields\n",
      "\n",
      "$$\\rho \\frac{\\partial u}{\\partial x} + u \\frac{\\partial \\rho}{\\partial x} \\approx \\rho_i \\frac{u_i - u_{i-1}}{\\Delta x} + u_i \\frac{\\rho_i - \\rho_{i-1}}{\\Delta x}$$\n",
      "\n",
      "    "
     ]
    },
    {
     "cell_type": "markdown",
     "metadata": {},
     "source": [
      "The first big takeaway here is that the numerical approximations are different for the conservative and non-conservative forms, despite the fact that the original equations are mathematically equivalent.  \n",
      "\n",
      "#####What makes it conservative or non-conservative?\n",
      "\n",
      "If a derivative is conservative, when you expand it out into a series, all of the terms except for those on the boundary should cancel with each other.  \n",
      "\n",
      "Take our conservative derivative, expanded between $i=0$ and $i=3$:\n",
      "\n",
      "$$\\frac{(\\rho u)_1 - (\\rho u)_0}{\\Delta x} + \\frac{(\\rho u)_2 - (\\rho u)_1}{\\Delta x} + \\frac{(\\rho u)_3 - (\\rho u)_2}{\\Delta x}$$\n",
      "\n",
      "Hopefully you can see that if we add up all of the terms in that expansion, we'll be left with only those terms at the boundary of our expansion.  \n"
     ]
    },
    {
     "cell_type": "markdown",
     "metadata": {},
     "source": [
      "Let's try the same thing with the non-conservative form:\n",
      "\n",
      "$$\\rho_1 \\frac{u_1 - u_0}{\\Delta x} + u_1 \\frac{\\rho_1 - \\rho_0}{\\Delta x} + \\rho_2 \\frac{u_2-u_1}{\\Delta x} + u_2 \\frac{\\rho_2 - \\rho_1}{\\Delta x} + \\rho_3 \\frac{u_3-u_2}{\\Delta x} + u_3 \\frac{\\rho_3 - \\rho_2}{\\Delta x}$$\n",
      "\n",
      "Ack.  Now nothing cancels out at all.  In fact, for each additional grid point that we add to this series, the expansion will get longer and longer.  \n",
      "\n",
      "#####So which is better?\n",
      "\n",
      "Non-conservative forms will generally work fine if the solution is expected to be smooth, i.e. without shocks.  \n",
      "\n",
      "If there is the potential for shocks or any kind of sharp change, you need to use the conservative form."
     ]
    },
    {
     "cell_type": "markdown",
     "metadata": {},
     "source": [
      "#####Works consulted\n",
      "\n",
      "\"Conservation Vs Non-conservation Forms of Conservation Equations.\" Fluid Dynamics. N.p., n.d. Web. 17 July 2014. <http://physics.stackexchange.com/a/70540>.\n",
      "\n",
      "LeVeque, Randall J. \"Chapter 12.\" Numerical Methods for Conservation Laws. Basel: Birkha\u0308user Verlag, 1992. N. pag. Print."
     ]
    },
    {
     "cell_type": "raw",
     "metadata": {},
     "source": [
      "Please ignore the cell below, it just loads a stylesheet for rendering the notebook."
     ]
    },
    {
     "cell_type": "code",
     "collapsed": false,
     "input": [
      "from IPython.core.display import HTML\n",
      "def css_styling():\n",
      "    styles = open(\"../styles/custom.css\", \"r\").read()\n",
      "    return HTML(styles)\n",
      "css_styling()"
     ],
     "language": "python",
     "metadata": {},
     "outputs": [
      {
       "html": [
        "<link href='http://fonts.googleapis.com/css?family=Fenix' rel='stylesheet' type='text/css'>\n",
        "<link href='http://fonts.googleapis.com/css?family=Alegreya+Sans:100,300,400,500,700,800,900,100italic,300italic,400italic,500italic,700italic,800italic,900italic' rel='stylesheet' type='text/css'>\n",
        "<link href='http://fonts.googleapis.com/css?family=Source+Code+Pro:300,400' rel='stylesheet' type='text/css'>\n",
        "<style>\n",
        "    @font-face {\n",
        "        font-family: \"Computer Modern\";\n",
        "        src: url('http://mirrors.ctan.org/fonts/cm-unicode/fonts/otf/cmunss.otf');\n",
        "    }\n",
        "    div.cell{\n",
        "        width:800px;\n",
        "        margin-left:16% !important;\n",
        "        margin-right:auto;\n",
        "    }\n",
        "    h1 {\n",
        "        font-family: 'Alegreya Sans', sans-serif;\n",
        "    }\n",
        "    h2 {\n",
        "        font-family: 'Fenix', serif;\n",
        "    }\n",
        "    h3{\n",
        "\t\tfont-family: 'Fenix', serif;\n",
        "        margin-top:12px;\n",
        "        margin-bottom: 3px;\n",
        "       }\n",
        "\th4{\n",
        "\t\tfont-family: 'Fenix', serif;\n",
        "       }\n",
        "    h5 {\n",
        "        font-family: 'Alegreya Sans', sans-serif;\n",
        "    }\t   \n",
        "    div.text_cell_render{\n",
        "        font-family: 'Alegreya Sans',Computer Modern, \"Helvetica Neue\", Arial, Helvetica, Geneva, sans-serif;\n",
        "        line-height: 135%;\n",
        "        font-size: 120%;\n",
        "        width:600px;\n",
        "        margin-left:auto;\n",
        "        margin-right:auto;\n",
        "    }\n",
        "    .CodeMirror{\n",
        "            font-family: \"Source Code Pro\";\n",
        "\t\t\tfont-size: 90%;\n",
        "    }\n",
        "/*    .prompt{\n",
        "        display: None;\n",
        "    }*/\n",
        "    .text_cell_render h1 {\n",
        "        font-weight: 200;\n",
        "        font-size: 50pt;\n",
        "\t\tline-height: 100%;\n",
        "        color:#CD2305;\n",
        "        margin-bottom: 0.5em;\n",
        "        margin-top: 0.5em;\n",
        "        display: block;\n",
        "    }\t\n",
        "    .text_cell_render h5 {\n",
        "        font-weight: 300;\n",
        "        font-size: 16pt;\n",
        "        color: #CD2305;\n",
        "        font-style: italic;\n",
        "        margin-bottom: .5em;\n",
        "        margin-top: 0.5em;\n",
        "        display: block;\n",
        "    }\n",
        "    \n",
        "    .warning{\n",
        "        color: rgb( 240, 20, 20 )\n",
        "        }  \n",
        "</style>\n",
        "<script>\n",
        "    MathJax.Hub.Config({\n",
        "                        TeX: {\n",
        "                           extensions: [\"AMSmath.js\"]\n",
        "                           },\n",
        "                tex2jax: {\n",
        "                    inlineMath: [ ['$','$'], [\"\\\\(\",\"\\\\)\"] ],\n",
        "                    displayMath: [ ['$$','$$'], [\"\\\\[\",\"\\\\]\"] ]\n",
        "                },\n",
        "                displayAlign: 'center', // Change this to 'center' to center equations.\n",
        "                \"HTML-CSS\": {\n",
        "                    styles: {'.MathJax_Display': {\"margin\": 4}}\n",
        "                }\n",
        "        });\n",
        "</script>\n"
       ],
       "metadata": {},
       "output_type": "pyout",
       "prompt_number": 1,
       "text": [
        "<IPython.core.display.HTML at 0x7f0680597050>"
       ]
      }
     ],
     "prompt_number": 1
    }
   ],
   "metadata": {}
  }
 ]
}