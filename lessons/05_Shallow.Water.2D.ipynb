{
 "metadata": {
  "name": "",
  "signature": "sha256:92fa53436350d453a56b59d9cc48ab416fff15eecc1fd309d51e6fcb29fc754e"
 },
 "nbformat": 3,
 "nbformat_minor": 0,
 "worksheets": [
  {
   "cells": [
    {
     "cell_type": "code",
     "collapsed": false,
     "input": [
      "from IPython.core.display import HTML\n",
      "def css_styling():\n",
      "    styles = open(\"../styles/custom.css\", \"r\").read()\n",
      "    return HTML(styles)\n",
      "css_styling()"
     ],
     "language": "python",
     "metadata": {},
     "outputs": [
      {
       "html": [
        "<link href='http://fonts.googleapis.com/css?family=Fenix' rel='stylesheet' type='text/css'>\n",
        "<link href='http://fonts.googleapis.com/css?family=Alegreya+Sans:100,300,400,500,700,800,900,100italic,300italic,400italic,500italic,700italic,800italic,900italic' rel='stylesheet' type='text/css'>\n",
        "<link href='http://fonts.googleapis.com/css?family=Source+Code+Pro:300,400' rel='stylesheet' type='text/css'>\n",
        "<style>\n",
        "    @font-face {\n",
        "        font-family: \"Computer Modern\";\n",
        "        src: url('http://mirrors.ctan.org/fonts/cm-unicode/fonts/otf/cmunss.otf');\n",
        "    }\n",
        "    div.cell{\n",
        "        width:800px;\n",
        "        margin-left:16% !important;\n",
        "        margin-right:auto;\n",
        "    }\n",
        "    h1 {\n",
        "        font-family: 'Alegreya Sans', sans-serif;\n",
        "    }\n",
        "    h2 {\n",
        "        font-family: 'Fenix', serif;\n",
        "    }\n",
        "    h3{\n",
        "\t\tfont-family: 'Fenix', serif;\n",
        "        margin-top:12px;\n",
        "        margin-bottom: 3px;\n",
        "       }\n",
        "\th4{\n",
        "\t\tfont-family: 'Fenix', serif;\n",
        "       }\n",
        "    h5 {\n",
        "        font-family: 'Alegreya Sans', sans-serif;\n",
        "    }\t   \n",
        "    div.text_cell_render{\n",
        "        font-family: 'Alegreya Sans',Computer Modern, \"Helvetica Neue\", Arial, Helvetica, Geneva, sans-serif;\n",
        "        line-height: 135%;\n",
        "        font-size: 120%;\n",
        "        width:600px;\n",
        "        margin-left:auto;\n",
        "        margin-right:auto;\n",
        "    }\n",
        "    .CodeMirror{\n",
        "            font-family: \"Source Code Pro\";\n",
        "\t\t\tfont-size: 90%;\n",
        "    }\n",
        "/*    .prompt{\n",
        "        display: None;\n",
        "    }*/\n",
        "    .text_cell_render h1 {\n",
        "        font-weight: 200;\n",
        "        font-size: 50pt;\n",
        "\t\tline-height: 100%;\n",
        "        color:#CD2305;\n",
        "        margin-bottom: 0.5em;\n",
        "        margin-top: 0.5em;\n",
        "        display: block;\n",
        "    }\t\n",
        "    .text_cell_render h5 {\n",
        "        font-weight: 300;\n",
        "        font-size: 16pt;\n",
        "        color: #CD2305;\n",
        "        font-style: italic;\n",
        "        margin-bottom: .5em;\n",
        "        margin-top: 0.5em;\n",
        "        display: block;\n",
        "    }\n",
        "    \n",
        "    .warning{\n",
        "        color: rgb( 240, 20, 20 )\n",
        "        }  \n",
        "</style>\n",
        "<script>\n",
        "    MathJax.Hub.Config({\n",
        "                        TeX: {\n",
        "                           extensions: [\"AMSmath.js\"]\n",
        "                           },\n",
        "                tex2jax: {\n",
        "                    inlineMath: [ ['$','$'], [\"\\\\(\",\"\\\\)\"] ],\n",
        "                    displayMath: [ ['$$','$$'], [\"\\\\[\",\"\\\\]\"] ]\n",
        "                },\n",
        "                displayAlign: 'center', // Change this to 'center' to center equations.\n",
        "                \"HTML-CSS\": {\n",
        "                    styles: {'.MathJax_Display': {\"margin\": 4}}\n",
        "                }\n",
        "        });\n",
        "</script>\n"
       ],
       "metadata": {},
       "output_type": "pyout",
       "prompt_number": 1,
       "text": [
        "<IPython.core.display.HTML at 0x7ff2ec3580d0>"
       ]
      }
     ],
     "prompt_number": 1
    },
    {
     "cell_type": "markdown",
     "metadata": {},
     "source": [
      "#Shallow Water in 2D with PyClaw"
     ]
    },
    {
     "cell_type": "markdown",
     "metadata": {},
     "source": [
      "First import the `riemann` and `pyclaw` libraries from the `clawpack` bundle.  The `riemann` library contains the Fortran solvers and `pyclaw` allows us to utilize those Fortran solvers within a Python environment.  "
     ]
    },
    {
     "cell_type": "code",
     "collapsed": false,
     "input": [
      "from clawpack import riemann\n",
      "from clawpack import pyclaw\n",
      "import numpy"
     ],
     "language": "python",
     "metadata": {},
     "outputs": []
    },
    {
     "cell_type": "markdown",
     "metadata": {},
     "source": [
      "##Radial Dam\n",
      "\n",
      "Our first foray into 2D shallow water simulations using PyClaw will be simulating the bursting of a radial dam.  \n",
      "\n",
      "Imagine a column of water of some height, $h$, which is greater than the surrounding water level.  The dam holding the column in place is instantaneously removed and the water rushes out as a radial wave.  "
     ]
    },
    {
     "cell_type": "code",
     "collapsed": false,
     "input": [
      "solver = pyclaw.ClawSolver2D(riemann.shallow_roe_with_efix_2D)\n",
      "solver.limiters = pyclaw.limiters.tvd.MC"
     ],
     "language": "python",
     "metadata": {},
     "outputs": []
    },
    {
     "cell_type": "markdown",
     "metadata": {},
     "source": [
      "Domain is 10 x 10 with 150 nodes in both x and y dimensions"
     ]
    },
    {
     "cell_type": "code",
     "collapsed": false,
     "input": [
      "xlower = -5.\n",
      "xupper = 5.\n",
      "ylower = -5.\n",
      "yupper = 5.\n",
      "    \n",
      "###Number of Grid Points###\n",
      "nx = 150\n",
      "ny = 150"
     ],
     "language": "python",
     "metadata": {},
     "outputs": []
    },
    {
     "cell_type": "code",
     "collapsed": false,
     "input": [
      "x = pyclaw.Dimension('x', xlower, xupper, nx)\n",
      "y = pyclaw.Dimension('y', ylower, yupper, ny)"
     ],
     "language": "python",
     "metadata": {},
     "outputs": []
    },
    {
     "cell_type": "code",
     "collapsed": false,
     "input": [
      "domain = pyclaw.Domain([x,y])\n",
      "state = pyclaw.State(domain, solver.num_eqn)\n",
      "\n",
      "grav = 1.0\n",
      "state.problem_data['grav'] = grav"
     ],
     "language": "python",
     "metadata": {},
     "outputs": []
    },
    {
     "cell_type": "markdown",
     "metadata": {},
     "source": [
      "##Dam initial conditions"
     ]
    },
    {
     "cell_type": "code",
     "collapsed": false,
     "input": [
      "###Initial Conditions###\n",
      "damRadius = 0.5\n",
      "\n",
      "###Inside dam###\n",
      "height_inside = 2.\n",
      "x_velocity_inside = 0.\n",
      "y_velocity_inside = 0.\n",
      "\n",
      "###Outside dam###\n",
      "height_outside = 1.0\n",
      "x_velocity_outside = 0.\n",
      "y_velocity_outside = 0."
     ],
     "language": "python",
     "metadata": {},
     "outputs": []
    },
    {
     "cell_type": "markdown",
     "metadata": {},
     "source": [
      "Our domain is 10 x 10, place the center of the radial dam at coordinate $(-4,-4)$"
     ]
    },
    {
     "cell_type": "code",
     "collapsed": false,
     "input": [
      "x0 = -4.\n",
      "y0 = -4."
     ],
     "language": "python",
     "metadata": {},
     "outputs": []
    },
    {
     "cell_type": "markdown",
     "metadata": {},
     "source": [
      "Setting initial conditions is a little trickier in 2D, but we can manage.  We'll need the x- and y-coordinates of the nodes first, which can be copied from the `state.grid` object"
     ]
    },
    {
     "cell_type": "code",
     "collapsed": false,
     "input": [
      "xCenter = state.grid.x.centers.copy()\n",
      "yCenter = state.grid.y.centers.copy()"
     ],
     "language": "python",
     "metadata": {},
     "outputs": []
    },
    {
     "cell_type": "markdown",
     "metadata": {},
     "source": [
      "Now we'll use the `numpy.meshgrid` function to generate the coordinates for a... meshed grid."
     ]
    },
    {
     "cell_type": "code",
     "collapsed": false,
     "input": [
      "Y,X = numpy.meshgrid(yCenter,xCenter)"
     ],
     "language": "python",
     "metadata": {},
     "outputs": []
    },
    {
     "cell_type": "markdown",
     "metadata": {},
     "source": [
      "We've specified a dam radius for our water column, so we need to know the radial distance of every point from the center of our dam in order to choose where to set the water height above the standard.  "
     ]
    },
    {
     "cell_type": "code",
     "collapsed": false,
     "input": [
      "rad = numpy.sqrt((X-x0)**2 + (Y-y0)**2)"
     ],
     "language": "python",
     "metadata": {},
     "outputs": []
    },
    {
     "cell_type": "markdown",
     "metadata": {},
     "source": [
      "Again we need to set the initial conditions in the `state` object.  This works the same way as it does with the 1D example, except that now, the `q` array is a three-dimensional array.  The first row stores water height in both x and y coordinates.  The second row stores water velocity in the x direction and the third row stores water velocity in the y direction.  "
     ]
    },
    {
     "cell_type": "code",
     "collapsed": false,
     "input": [
      "state.q[0,:,:] = height_inside*(rad<=damRadius) +\\\n",
      "                    height_outside*(rad>damRadius)\n",
      "    \n",
      "state.q[1,:,:] = 0.\n",
      "state.q[2,:,:] = 0."
     ],
     "language": "python",
     "metadata": {},
     "outputs": []
    },
    {
     "cell_type": "markdown",
     "metadata": {},
     "source": [
      "We need to set boundary conditions at 4 boundaries now.  We'll use the wall boundary condition so that waves will be reflected back in to our domain.  We can specify the condition at each wall as follows:\n",
      "```\n",
      "solver.bc_lower[0] = pyclaw.BC.wall\n",
      "solver.bc_lower[1] = pyclaw.BC.wall\n",
      "solver.bc_upper[0] = pyclaw.BC.wall\n",
      "solver.bc_upper[1] = pyclaw.BC.wall\n",
      "```\n",
      "\n",
      "but it's kind of a pain, especially if we want the same conditions at all boundaries.  If that's the case, there's a shortcut."
     ]
    },
    {
     "cell_type": "code",
     "collapsed": false,
     "input": [
      "solver.all_bcs = pyclaw.BC.wall"
     ],
     "language": "python",
     "metadata": {},
     "outputs": []
    },
    {
     "cell_type": "markdown",
     "metadata": {},
     "source": [
      "##Computing the solution\n",
      "\n",
      "With all of our initial and boundary conditions set, we again set up a controller to manage the problem for us and then it's time to run our problem.  "
     ]
    },
    {
     "cell_type": "code",
     "collapsed": false,
     "input": [
      "claw = pyclaw.Controller()\n",
      "claw.tfinal = 10\n",
      "claw.solution = pyclaw.Solution(state,domain)\n",
      "claw.solver = solver\n",
      "claw.output_format = None \n",
      "claw.output_style=1\n",
      "claw.keep_copy = True\n",
      "claw.num_output_times = 50"
     ],
     "language": "python",
     "metadata": {},
     "outputs": []
    },
    {
     "cell_type": "code",
     "collapsed": false,
     "input": [
      "claw.run()"
     ],
     "language": "python",
     "metadata": {},
     "outputs": []
    },
    {
     "cell_type": "markdown",
     "metadata": {},
     "source": [
      "##Visualizing results\n",
      "\n",
      "Plotting results from 2D simulations requires a few extra matplotlib imports.  We're going to grab `Axes3D`, in order to show our plots in, you guessed it, 3D, and also `cm` which contains different colormaps for use in our surface plots.  \n"
     ]
    },
    {
     "cell_type": "code",
     "collapsed": false,
     "input": [
      "import matplotlib.pyplot as plt\n",
      "%matplotlib inline\n",
      "from mpl_toolkits.mplot3d import Axes3D\n",
      "from matplotlib import cm"
     ],
     "language": "python",
     "metadata": {},
     "outputs": []
    },
    {
     "cell_type": "markdown",
     "metadata": {},
     "source": [
      "With that settled, we need to tell `matplotlib` that we want a 3d projection plot.  Our results from PyClaw are stored in `claw.frames[x].q[0,:,:]` and since this is a 3d projection, we'll re-use our `meshgrid` coordinates $X$ and $Y$."
     ]
    },
    {
     "cell_type": "code",
     "collapsed": false,
     "input": [
      "fig = plt.figure(figsize=(11,8))\n",
      "ax = fig.gca(projection='3d')\n",
      "ax.plot_surface(X,Y,claw.frames[0].q[0,:,:]);"
     ],
     "language": "python",
     "metadata": {},
     "outputs": []
    },
    {
     "cell_type": "markdown",
     "metadata": {},
     "source": [
      "Hmmm, doesn't really look like a *radial* dam so much as a square one.  Let's turn on antialiasing to smooth things out and also change the size of the faces being used in the surface plot.  The parameters `rstride` and `cstride` determine the size of the faces, with lower numbers resulting in smaller faces.  "
     ]
    },
    {
     "cell_type": "code",
     "collapsed": false,
     "input": [
      "fig = plt.figure(figsize=(11,8))\n",
      "ax = fig.gca(projection='3d')\n",
      "ax.plot_surface(X,Y,claw.frames[0].q[0,:,:], antialiased=True, rstride=3, cstride=3);"
     ],
     "language": "python",
     "metadata": {},
     "outputs": []
    },
    {
     "cell_type": "markdown",
     "metadata": {},
     "source": [
      "Much better.  You can lower `rstride` and `cstride` even further, but be warned that it can start to take quite a lot of time to render those plots.  \n",
      "\n",
      "##Animating results\n",
      "\n",
      "Just like our 1D visualizations, we can use JSAnimation to produce animated results.  The code below also uses a new colormap for the surface plots to improve contrast."
     ]
    },
    {
     "cell_type": "code",
     "collapsed": false,
     "input": [
      "from JSAnimation import IPython_display\n",
      "from matplotlib import animation\n",
      "\n",
      "fig = plt.figure(figsize=(11,8))\n",
      "ax = fig.gca(projection='3d')\n",
      "\n",
      "ax.plot_surface(X,Y,claw.frames[0].q[0,:,:], rstride=3, cstride=3,\\\n",
      "                       cmap=cm.Blues, antialiased=True, linewidth=0)\n",
      "ax.contour(X,Y,claw.frames[0].q[0,:,:], zdir='z', offset=-1, cmap=cm.coolwarm)\n",
      "ax.contour(X,Y,claw.frames[0].q[0,:,:], zdir='x', offset=-6, cmap=cm.coolwarm)\n",
      "ax.contour(X,Y,claw.frames[0].q[0,:,:], zdir='y', offset=6, cmap=cm.coolwarm)\n",
      "ax.set_zlim(0,2.)\n",
      "\n",
      "def animate(i):\n",
      "    ax.clear()\n",
      "    ax.set_zlim(0,2.)\n",
      "    ax.plot_surface(X,Y,claw.frames[i].q[0,:,:], rstride=3, cstride=3,\\\n",
      "                       cmap=cm.Blues, antialiased=True, linewidth=0)\n",
      "    ax.contour(X,Y,claw.frames[i].q[0,:,:], zdir='z', offset=-1, cmap=cm.coolwarm)\n",
      "    ax.contour(X,Y,claw.frames[i].q[0,:,:], zdir='x', offset=-6, cmap=cm.coolwarm)\n",
      "    ax.contour(X,Y,claw.frames[i].q[0,:,:], zdir='y', offset=6, cmap=cm.coolwarm)\n",
      "    return ax\n",
      "\n",
      "animation.FuncAnimation(fig, animate,\n",
      "                        frames=50,  # number of frames to draw\n",
      "                        interval=40, # time (ms) on each frame\n",
      "                        blit=True)\n",
      "    "
     ],
     "language": "python",
     "metadata": {},
     "outputs": []
    }
   ],
   "metadata": {}
  }
 ]
}