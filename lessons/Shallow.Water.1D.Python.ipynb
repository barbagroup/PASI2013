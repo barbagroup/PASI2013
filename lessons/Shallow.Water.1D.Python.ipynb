{
 "metadata": {
  "name": "",
  "signature": "sha256:835fe42a0fe01226177bff4c3b566ed44372c6b6ecb2c256e31f04d5b896ba1d"
 },
 "nbformat": 3,
 "nbformat_minor": 0,
 "worksheets": [
  {
   "cells": [
    {
     "cell_type": "code",
     "collapsed": false,
     "input": [
      "from IPython.core.display import HTML\n",
      "def css_styling():\n",
      "    styles = open(\"../styles/custom.css\", \"r\").read()\n",
      "    return HTML(styles)\n",
      "css_styling()"
     ],
     "language": "python",
     "metadata": {},
     "outputs": [
      {
       "html": [
        "<link href='http://fonts.googleapis.com/css?family=Fenix' rel='stylesheet' type='text/css'>\n",
        "<link href='http://fonts.googleapis.com/css?family=Alegreya+Sans:100,300,400,500,700,800,900,100italic,300italic,400italic,500italic,700italic,800italic,900italic' rel='stylesheet' type='text/css'>\n",
        "<link href='http://fonts.googleapis.com/css?family=Source+Code+Pro:300,400' rel='stylesheet' type='text/css'>\n",
        "<style>\n",
        "    @font-face {\n",
        "        font-family: \"Computer Modern\";\n",
        "        src: url('http://mirrors.ctan.org/fonts/cm-unicode/fonts/otf/cmunss.otf');\n",
        "    }\n",
        "    div.cell{\n",
        "        width:800px;\n",
        "        margin-left:16% !important;\n",
        "        margin-right:auto;\n",
        "    }\n",
        "    h1 {\n",
        "        font-family: 'Alegreya Sans', sans-serif;\n",
        "    }\n",
        "    h2 {\n",
        "        font-family: 'Fenix', serif;\n",
        "    }\n",
        "    h3{\n",
        "\t\tfont-family: 'Fenix', serif;\n",
        "        margin-top:12px;\n",
        "        margin-bottom: 3px;\n",
        "       }\n",
        "\th4{\n",
        "\t\tfont-family: 'Fenix', serif;\n",
        "       }\n",
        "    h5 {\n",
        "        font-family: 'Alegreya Sans', sans-serif;\n",
        "    }\t   \n",
        "    div.text_cell_render{\n",
        "        font-family: 'Alegreya Sans',Computer Modern, \"Helvetica Neue\", Arial, Helvetica, Geneva, sans-serif;\n",
        "        line-height: 135%;\n",
        "        font-size: 120%;\n",
        "        width:600px;\n",
        "        margin-left:auto;\n",
        "        margin-right:auto;\n",
        "    }\n",
        "    .CodeMirror{\n",
        "            font-family: \"Source Code Pro\";\n",
        "\t\t\tfont-size: 90%;\n",
        "    }\n",
        "/*    .prompt{\n",
        "        display: None;\n",
        "    }*/\n",
        "    .text_cell_render h1 {\n",
        "        font-weight: 200;\n",
        "        font-size: 50pt;\n",
        "\t\tline-height: 100%;\n",
        "        color:#CD2305;\n",
        "        margin-bottom: 0.5em;\n",
        "        margin-top: 0.5em;\n",
        "        display: block;\n",
        "    }\t\n",
        "    .text_cell_render h5 {\n",
        "        font-weight: 300;\n",
        "        font-size: 16pt;\n",
        "        color: #CD2305;\n",
        "        font-style: italic;\n",
        "        margin-bottom: .5em;\n",
        "        margin-top: 0.5em;\n",
        "        display: block;\n",
        "    }\n",
        "    \n",
        "    .warning{\n",
        "        color: rgb( 240, 20, 20 )\n",
        "        }  \n",
        "</style>\n",
        "<script>\n",
        "    MathJax.Hub.Config({\n",
        "                        TeX: {\n",
        "                           extensions: [\"AMSmath.js\"]\n",
        "                           },\n",
        "                tex2jax: {\n",
        "                    inlineMath: [ ['$','$'], [\"\\\\(\",\"\\\\)\"] ],\n",
        "                    displayMath: [ ['$$','$$'], [\"\\\\[\",\"\\\\]\"] ]\n",
        "                },\n",
        "                displayAlign: 'center', // Change this to 'center' to center equations.\n",
        "                \"HTML-CSS\": {\n",
        "                    styles: {'.MathJax_Display': {\"margin\": 4}}\n",
        "                }\n",
        "        });\n",
        "</script>\n"
       ],
       "metadata": {},
       "output_type": "pyout",
       "prompt_number": 1,
       "text": [
        "<IPython.core.display.HTML at 0x7f3d3874e0d0>"
       ]
      }
     ],
     "prompt_number": 1
    },
    {
     "cell_type": "markdown",
     "metadata": {},
     "source": [
      "#Shallow Water Equations in 1D with Python and Numpy"
     ]
    },
    {
     "cell_type": "markdown",
     "metadata": {},
     "source": [
      "The conservative form of the 1D Shallow Water equations have the form\n",
      "\n",
      "$$\\frac{\\partial H}{\\partial t} + \\frac{\\partial (UH)}{\\partial x} = 0$$\n",
      "\n",
      "$$\\frac{\\partial (UH)}{\\partial t} + \\frac{\\partial (U^2 H + \\frac{1}{2} g H^2 )}{\\partial x} = 0$$\n",
      "\n",
      "Where $U$ is the velocity, $H$ is the height of the water column and $g$ is the gravitational acceleration."
     ]
    },
    {
     "cell_type": "markdown",
     "metadata": {},
     "source": [
      "Since the equations are hyperbolic, we'll discretize using the Lax-Wendroff scheme, first calculating the results at spatial and temporal midpoints before solving for the whole grid step.\n",
      "\n",
      "$$H^{n+\\frac{1}{2}}_{i+\\frac{1}{2}} = \\frac{H^n_{i}+H^n_{i+1}}{2} - \\frac{\\Delta t}{2} \\frac{UH^n_{i+1}-UH^n_{i}}{\\Delta x}$$\n",
      "\n",
      "$$UH^{n+\\frac{1}{2}}_{i+\\frac{1}{2}} = \\frac{UH^n_{i}+UH^n_{i+1}}{2} - \\frac{\\Delta t}{2 \\Delta x} \\left[ (U^2H)^n_{i+1} - (U^2H)^{n}_{i} + \\frac{1}{2} g \\left((H^{n}_{i+1})^2 - (H^{n}_{i})^{2}\\right) \\right]$$\n",
      "\n",
      "One thing in particular to note in the equations above: one of the quantities we want to calculate is $(U^2H)^n_{i}$.  We have a $UH$ vector, so we'll use $\\frac{(UH)^2}{H}$.  \n",
      "\n",
      "Now our second equation reads as\n",
      "\n",
      "$$UH^{n+\\frac{1}{2}}_{i+\\frac{1}{2}} = \\frac{UH^n_{i}+UH^n_{i+1}}{2} - $$\n",
      "$$\\frac{\\Delta t}{2 \\Delta x} \\left[ \\frac{((UH)^n_{i+1})^2}{H^n_{i+1}} - \\frac{((UH)^{n}_{i})^{2}}{H^{n}_{i}} +\\frac{1}{2} g \\left((H^n_{i+1})^2 -(H^{n}_{i})^{2}\\right)\\right]$$"
     ]
    },
    {
     "cell_type": "markdown",
     "metadata": {},
     "source": [
      "Then we can solve for the full step using the half-values calculated above.\n",
      "\n",
      "$$H^{n+1}_i = H^{n}_i - \\frac{\\Delta t}{\\Delta x} \\left[ UH^{n+\\frac{1}{2}}_{i+\\frac{1}{2}} - UH^{n+\\frac{1}{2}}_{i-\\frac{1}{2}}\\right]$$\n",
      "\n",
      "$$UH^{n+1}_i = UH^{n}_{i} - \\frac{\\Delta t}{\\Delta x} \\left[ \\frac{\\left((UH)^n_{i+\\frac{1}{2}}\\right)^2}{H^n_{i+\\frac{1}{2}}} - \\frac{\\left((UH)^{n}_{i-\\frac{1}{2}}\\right)^{2}}{H^{n}_{i-\\frac{1}{2}}} +\\frac{1}{2} g \\left(\\left(H^n_{i+\\frac{1}{2}}\\right)^2 - \\left(H^{n}_{i-\\frac{1}{2}}\\right)^{2}\\right) \\right]$$"
     ]
    },
    {
     "cell_type": "code",
     "collapsed": false,
     "input": [
      "import numpy as np\n",
      "import matplotlib.pyplot as plt\n",
      "from matplotlib import animation\n",
      "from JSAnimation.IPython_display import display_animation\n",
      "%matplotlib inline"
     ],
     "language": "python",
     "metadata": {},
     "outputs": []
    },
    {
     "cell_type": "markdown",
     "metadata": {},
     "source": [
      "The following function will solve the equations as we've discretized above.  There are two different initial conditions set up here.  The first is a \"dam\" problem, which simulates a wall of water being suddenly released.  The second is an exponential which simulates the after effect of a drop of water hitting a calm surface.  \n",
      "\n",
      "The boundary conditions applied here are those of \"free boundaries.\"  Any fluid which reaches the edge of the simulation area is allowed to simply flow out of the viewable window."
     ]
    },
    {
     "cell_type": "code",
     "collapsed": false,
     "input": [
      "def python_1d_shallow(nt, nx, g, xlen, IC=1):\n",
      "    H = np.zeros(nx)\n",
      "    UH = np.zeros(nx)\n",
      "    HN = np.zeros(nx)\n",
      "    UHN = np.zeros(nx)\n",
      "    \n",
      "    dx = xlen/(nx-1)\n",
      "    dt = dx*.35\n",
      "    x = np.linspace(0,xlen,nx)\n",
      "    \n",
      "    if IC == 1:\n",
      "        H[:nx/2]=3\n",
      "        H[nx/2:]=1\n",
      "    \n",
      "    elif IC == 2:\n",
      "        x0=xlen/2.\n",
      "        eps=0.5\n",
      "        H = 1.0 + eps*np.exp(-(x-x0)**2/0.5)\n",
      "        \n",
      "    else:\n",
      "        return (\"invalid IC\")\n",
      "       \n",
      "    for timestep in range(nt):\n",
      "        HN[1:] = (H[1:]+H[:-1])/2 - dt/2 * (UH[1:]-UH[:-1])/dx\n",
      "        \n",
      "        UHN[1:] = (UH[1:]+UH[:-1])/2 - dt/(2*dx)*\\\n",
      "        (UH[1:]**2/H[1:] - UH[:-1]**2/H[:-1] + .5*g*(H[1:]**2-H[:-1]**2))\n",
      "        \n",
      "        H[:-1] = H[:-1] - dt/dx * (UHN[1:] - UHN[:-1])\n",
      "\n",
      "        UH[:-1] = UH[:-1] - dt/dx *\\\n",
      "                ((UHN[1:]**2/HN[1:] - UHN[:-1]**2/HN[:-1]) +\\\n",
      "                .5*g*(HN[1:]**2-HN[:-1]**2))\n",
      "            \n",
      "        #free boundary conditions\n",
      "        H[0]=H[1]\n",
      "        H[-1]=H[-2]\n",
      "        UH[0]=UH[1]\n",
      "        UH[-1]=UH[-2]\n",
      "\n",
      "    return H\n"
     ],
     "language": "python",
     "metadata": {},
     "outputs": []
    },
    {
     "cell_type": "markdown",
     "metadata": {},
     "source": [
      "##Visualizing results with the \"dam\" initial condition\n",
      "\n",
      "Let's take a look at a JSanimation of our results for the dam break initial conditions.  We'll set up our problem as follows:\n",
      "\n",
      "*  $nx = 101$\n",
      "*  $g = 1$\n",
      "*  $xlen = 3$\n",
      "\n",
      "and we'll look at 100 frames (which corresponds to 100 timesteps)"
     ]
    },
    {
     "cell_type": "code",
     "collapsed": false,
     "input": [
      "x = np.linspace(0,4,101)\n",
      "fig = plt.figure(figsize=(11,8))\n",
      "ax = plt.axes(xlim=(0,4), ylim=(0,7))\n",
      "line, = ax.plot([], [], lw=2)\n",
      "\n",
      "def init():\n",
      "    line.set_data([],[])\n",
      "    return line, \n",
      "\n",
      "def animate(i):\n",
      "    line.set_data(x, python_1d_shallow(i, 101, 1, 3., 1))\n",
      "    return line,\n",
      "\n",
      "animation.FuncAnimation(fig, animate, init_func=init, frames=100, interval=10, blit=True)"
     ],
     "language": "python",
     "metadata": {},
     "outputs": []
    },
    {
     "cell_type": "markdown",
     "metadata": {},
     "source": [
      "##Visualizing results with the \"droplet\" initial condition\n",
      "\n",
      "Let's take a look at a JSanimation of our results for the droplet initial conditions.  We'll use the same setup except specify to the solver to use our second set of initial conditions.  \n"
     ]
    },
    {
     "cell_type": "code",
     "collapsed": false,
     "input": [
      "x = np.linspace(0,4,101)\n",
      "fig = plt.figure(figsize=(11,8))\n",
      "ax = plt.axes(xlim=(0,4), ylim=(.5,1.75))\n",
      "line, = ax.plot([], [], lw=2)\n",
      "\n",
      "def init():\n",
      "    line.set_data([],[])\n",
      "    return line, \n",
      "\n",
      "def animate(i):\n",
      "    line.set_data(x, python_1d_shallow(i, 101, 1, 3., 2))\n",
      "    return line,\n",
      "\n",
      "animation.FuncAnimation(fig, animate, init_func=init, frames=100, interval=10, blit=True)"
     ],
     "language": "python",
     "metadata": {},
     "outputs": []
    }
   ],
   "metadata": {}
  }
 ]
}